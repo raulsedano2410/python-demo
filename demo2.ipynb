{
 "cells": [
  {
   "cell_type": "code",
   "execution_count": null,
   "metadata": {},
   "outputs": [],
   "source": [
    "import pandas as pd\n",
    "df = pd.read_excel('top_250_movies.xlsx')\n",
    "df"
   ]
  },
  {
   "cell_type": "code",
   "execution_count": 2,
   "metadata": {},
   "outputs": [],
   "source": [
    "#  convertimos la duracion a minutos\n",
    "def convert_duration(duration):\n",
    "    hours, minutes = 0, 0\n",
    "    if 'h' in duration:\n",
    "        hours = int(duration.split(' ')[0].replace('h', ''))\n",
    "        \n",
    "    if 'm' in duration:\n",
    "        minutes = int(duration.split(' ')[-1].replace('m', ''))\n",
    "    return hours * 60 + minutes"
   ]
  },
  {
   "cell_type": "code",
   "execution_count": null,
   "metadata": {},
   "outputs": [],
   "source": [
    "res = convert_duration('2h 7m')\n",
    "print(res)"
   ]
  },
  {
   "cell_type": "code",
   "execution_count": null,
   "metadata": {},
   "outputs": [],
   "source": [
    "# aplicamos conversión de duracion\n",
    "df['DURATION'] = df['DURATION'].apply(convert_duration)\n",
    "df['DURATION']"
   ]
  },
  {
   "cell_type": "code",
   "execution_count": 5,
   "metadata": {},
   "outputs": [],
   "source": [
    "#  convertimos rating de cadenas a numeros decimales\n",
    "def convert_rating(rating):\n",
    "    return float(rating.replace(',', '.'))"
   ]
  },
  {
   "cell_type": "code",
   "execution_count": null,
   "metadata": {},
   "outputs": [],
   "source": [
    "# aplicamos conversión de rating\n",
    "# \n",
    "df['RATING'] = df['RATING'].apply(convert_rating)\n",
    "df['RATING']"
   ]
  },
  {
   "cell_type": "code",
   "execution_count": null,
   "metadata": {},
   "outputs": [],
   "source": [
    "#  La película más corta y la más larga\n",
    "\n",
    "long_movie = df.loc[df['DURATION'].idxmax()]\n",
    "shortest_movie = df.loc[df['DURATION'].idxmin()]\n",
    "\n",
    "print(long_movie)\n",
    "print('\\n')\n",
    "print(shortest_movie)\n"
   ]
  },
  {
   "cell_type": "code",
   "execution_count": null,
   "metadata": {},
   "outputs": [],
   "source": [
    "#  peliculas con una puntuacion mayor a 8.5\n",
    "hight_rating = df[df['RATING'] > 8.5]\n",
    "print(hight_rating.head(10))\n",
    "hight_rating.info()\n"
   ]
  },
  {
   "cell_type": "code",
   "execution_count": null,
   "metadata": {},
   "outputs": [],
   "source": [
    "# Agrupar por año y calcular estadísticas\n",
    "estadisticas = df.groupby('YEAR').agg(\n",
    "    num_peliculas=('TITLE', 'count'),\n",
    "    calificacion_promedio=('RATING', 'mean')\n",
    ").reset_index()\n",
    "\n",
    "# Mostrar el resultado de ultimo a;o primero\n",
    "estadisticas_sorted = estadisticas.sort_values(by='YEAR', ascending=False)\n",
    "estadisticas_sorted"
   ]
  },
  {
   "cell_type": "code",
   "execution_count": 10,
   "metadata": {},
   "outputs": [],
   "source": [
    "import matplotlib.pyplot as plt\n"
   ]
  },
  {
   "cell_type": "code",
   "execution_count": null,
   "metadata": {},
   "outputs": [],
   "source": [
    "#  visualizar la peliculas por año\n",
    "plt.figure(figsize=(20, 6))\n",
    "plt.bar(estadisticas_sorted['YEAR'].astype(str), estadisticas_sorted['num_peliculas'], color='skyblue')\n",
    "plt.xlabel('Año')\n",
    "plt.ylabel('Número de Películas')\n",
    "plt.title('Número de Películas por Año')\n",
    "plt.xticks(rotation=45)\n",
    "plt.tight_layout()\n",
    "plt.show()\n",
    "\n"
   ]
  },
  {
   "cell_type": "code",
   "execution_count": null,
   "metadata": {},
   "outputs": [],
   "source": [
    "#  visualizar la calificación promedio por año\n",
    "plt.figure(figsize=(20, 6))\n",
    "plt.plot(estadisticas_sorted['YEAR'].astype(str), estadisticas_sorted['calificacion_promedio'], marker='o', color='green')\n",
    "plt.xlabel('Año')\n",
    "plt.ylabel('Calificación Promedio')\n",
    "plt.title('Calificación Promedio por Año')\n",
    "plt.xticks(rotation=45)\n",
    "plt.tight_layout()\n",
    "plt.show()\n"
   ]
  },
  {
   "cell_type": "code",
   "execution_count": null,
   "metadata": {},
   "outputs": [],
   "source": []
  }
 ],
 "metadata": {
  "kernelspec": {
   "display_name": "env_data",
   "language": "python",
   "name": "python3"
  },
  "language_info": {
   "codemirror_mode": {
    "name": "ipython",
    "version": 3
   },
   "file_extension": ".py",
   "mimetype": "text/x-python",
   "name": "python",
   "nbconvert_exporter": "python",
   "pygments_lexer": "ipython3",
   "version": "3.11.9"
  }
 },
 "nbformat": 4,
 "nbformat_minor": 2
}
