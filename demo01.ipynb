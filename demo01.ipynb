{
 "cells": [
  {
   "cell_type": "code",
   "execution_count": 1,
   "metadata": {},
   "outputs": [],
   "source": [
    "from selenium import webdriver\n",
    "from selenium.webdriver.common.by import By\n",
    "\n",
    "driver = webdriver.Chrome()\n",
    "\n",
    "driver.get(\"https://www.imdb.com/chart/top/\")\n",
    "\n",
    "title = driver.title\n",
    "\n",
    "driver.implicitly_wait(0.5)\n",
    "\n",
    "\n",
    "container = driver.find_element(by=By.XPATH, value=\"//*[@id='__next']/main/div/div[3]/section/div/div[2]/div/ul\")\n",
    "\n",
    "movies = container.find_elements(by=By.CLASS_NAME, value='ipc-metadata-list-summary-item.sc-4929eaf6-0.DLYcv.cli-parent')\n",
    "\n",
    "\n",
    "data_dicts = []\n",
    "for movie in movies:\n",
    "    # Obtener título\n",
    "    title = movie.find_element(by=By.CLASS_NAME, value='ipc-title-link-wrapper')\n",
    "    clean_title = title.text.split(' ', 1)[1].upper()\n",
    "\n",
    "    # Obtener año\n",
    "    year = movie.find_element(by=By.XPATH, value='.//div[@class=\"sc-300a8231-6 dBUjvq cli-title-metadata\"]//span[1]')\n",
    "\n",
    "\n",
    "    # Obtener duración\n",
    "    duration = movie.find_element(by=By.XPATH, value='.//div[@class=\"sc-300a8231-6 dBUjvq cli-title-metadata\"]//span[2]')\n",
    "\n",
    "    # Obtener rating\n",
    "    rating = movie.find_element(by=By.CLASS_NAME, value='ipc-rating-star--rating')\n",
    "\n",
    "    # Agrupar los datos en un solo diccionario\n",
    "    movie_data = {\n",
    "        'TITLE': clean_title,\n",
    "        'YEAR': year.text,\n",
    "        'DURATION': duration.text,\n",
    "        'RATING': rating.text\n",
    "    }\n",
    "\n",
    "    # Agregar el diccionario a la lista\n",
    "    data_dicts.append(movie_data)\n",
    "driver.quit()\n",
    "\n",
    "# Imprimir el resultado"
   ]
  },
  {
   "cell_type": "code",
   "execution_count": null,
   "metadata": {},
   "outputs": [],
   "source": [
    "import pandas as pd\n",
    "\n",
    "\n",
    "df = pd.DataFrame(data_dicts)\n",
    "df.to_excel('top_250_movies.xlsx', index=False)\n",
    "\n",
    "\n"
   ]
  },
  {
   "cell_type": "code",
   "execution_count": null,
   "metadata": {},
   "outputs": [],
   "source": [
    "df_excel = pd.read_excel('top_250_movies.xlsx')\n",
    "df_excel"
   ]
  },
  {
   "cell_type": "code",
   "execution_count": 4,
   "metadata": {},
   "outputs": [],
   "source": [
    "def convert_duration(duration):\n",
    "    hours, minutes = 0, 0\n",
    "    if 'h' in duration:\n",
    "        hours = int(duration.split(' ')[0].replace('h', ''))\n",
    "        \n",
    "    if 'm' in duration:\n",
    "        minutes = int(duration.split(' ')[-1].replace('m', ''))\n",
    "    return hours * 60 + minutes"
   ]
  },
  {
   "cell_type": "code",
   "execution_count": null,
   "metadata": {},
   "outputs": [],
   "source": [
    "res = convert_duration('2h 7m')\n",
    "print(res)"
   ]
  },
  {
   "cell_type": "code",
   "execution_count": null,
   "metadata": {},
   "outputs": [],
   "source": [
    "# aplicar conversión\n",
    "df['DURATION'] = df['DURATION'].apply(convert_duration)\n",
    "df['DURATION']"
   ]
  },
  {
   "cell_type": "code",
   "execution_count": 7,
   "metadata": {},
   "outputs": [],
   "source": [
    "def convert_rating(rating):\n",
    "    return float(rating.replace(',', '.'))"
   ]
  },
  {
   "cell_type": "code",
   "execution_count": null,
   "metadata": {},
   "outputs": [],
   "source": [
    "df['RATING'] = df['RATING'].apply(convert_rating)\n",
    "df['RATING']"
   ]
  },
  {
   "cell_type": "code",
   "execution_count": null,
   "metadata": {},
   "outputs": [],
   "source": [
    "#  shortest and longest movie\n",
    "\n",
    "long_movie = df.loc[df['DURATION'].idxmax()]\n",
    "shortest_movie = df.loc[df['DURATION'].idxmin()]\n",
    "\n",
    "print(long_movie)\n",
    "print('\\n')\n",
    "print(shortest_movie)\n"
   ]
  },
  {
   "cell_type": "code",
   "execution_count": null,
   "metadata": {},
   "outputs": [],
   "source": [
    "hight_rating = df[df['RATING'] > 8.5]\n",
    "print(hight_rating.head(10))\n",
    "hight_rating.info()\n"
   ]
  },
  {
   "cell_type": "code",
   "execution_count": null,
   "metadata": {},
   "outputs": [],
   "source": [
    "# Agrupar por año y calcular estadísticas\n",
    "estadisticas = df.groupby('YEAR').agg(\n",
    "    num_peliculas=('TITLE', 'count'),\n",
    "    # duracion_total=('DURATION', 'sum'),\n",
    "    # duracion_promedio=('DURATION', 'mean'),\n",
    "    calificacion_promedio=('RATING', 'mean')\n",
    ").reset_index()\n",
    "\n",
    "# Mostrar el resultado\n",
    "estadisticas_sorted = estadisticas.sort_values(by='YEAR', ascending=False)\n",
    "estadisticas_sorted"
   ]
  },
  {
   "cell_type": "code",
   "execution_count": null,
   "metadata": {},
   "outputs": [],
   "source": [
    "import matplotlib.pyplot as plt\n"
   ]
  },
  {
   "cell_type": "code",
   "execution_count": null,
   "metadata": {},
   "outputs": [],
   "source": [
    "#  visualizar la peliculas por año\n",
    "plt.figure(figsize=(20, 6))\n",
    "plt.bar(estadisticas_sorted['YEAR'].astype(str), estadisticas_sorted['num_peliculas'], color='skyblue')\n",
    "plt.xlabel('Año')\n",
    "plt.ylabel('Número de Películas')\n",
    "plt.title('Número de Películas por Año')\n",
    "plt.xticks(rotation=45)\n",
    "plt.tight_layout()\n",
    "plt.show()\n",
    "\n"
   ]
  },
  {
   "cell_type": "code",
   "execution_count": null,
   "metadata": {},
   "outputs": [],
   "source": [
    "#  visualizar la calificación promedio por año\n",
    "plt.figure(figsize=(20, 6))\n",
    "plt.plot(estadisticas_sorted['YEAR'].astype(str), estadisticas_sorted['calificacion_promedio'], marker='o', color='green')\n",
    "plt.xlabel('Año')\n",
    "plt.ylabel('Calificación Promedio')\n",
    "plt.title('Calificación Promedio por Año')\n",
    "plt.xticks(rotation=45)\n",
    "plt.tight_layout()\n",
    "plt.show()\n"
   ]
  }
 ],
 "metadata": {
  "kernelspec": {
   "display_name": "env_data",
   "language": "python",
   "name": "python3"
  },
  "language_info": {
   "codemirror_mode": {
    "name": "ipython",
    "version": 3
   },
   "file_extension": ".py",
   "mimetype": "text/x-python",
   "name": "python",
   "nbconvert_exporter": "python",
   "pygments_lexer": "ipython3",
   "version": "3.11.9"
  }
 },
 "nbformat": 4,
 "nbformat_minor": 2
}
