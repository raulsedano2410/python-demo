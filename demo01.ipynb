{
 "cells": [
  {
   "cell_type": "code",
   "execution_count": 1,
   "metadata": {},
   "outputs": [],
   "source": [
    "from selenium import webdriver\n",
    "from selenium.webdriver.common.by import By\n",
    "\n",
    "driver = webdriver.Chrome()\n",
    "\n",
    "driver.get(\"https://www.imdb.com/chart/top/\")\n",
    "\n",
    "title = driver.title\n",
    "\n",
    "driver.implicitly_wait(0.5)\n",
    "\n",
    "\n",
    "container = driver.find_element(by=By.XPATH, value=\"//*[@id='__next']/main/div/div[3]/section/div/div[2]/div/ul\")\n",
    "\n",
    "movies = container.find_elements(by=By.CLASS_NAME, value='ipc-metadata-list-summary-item.sc-4929eaf6-0.DLYcv.cli-parent')\n",
    "\n",
    "\n",
    "data_dicts = []\n",
    "for movie in movies:\n",
    "    # Obtener título\n",
    "    title = movie.find_element(by=By.CLASS_NAME, value='ipc-title-link-wrapper')\n",
    "    clean_title = title.text.split(' ', 1)[1].upper()\n",
    "\n",
    "    # Obtener año\n",
    "    year = movie.find_element(by=By.XPATH, value='.//div[@class=\"sc-300a8231-6 dBUjvq cli-title-metadata\"]//span[1]')\n",
    "\n",
    "\n",
    "    # Obtener duración\n",
    "    duration = movie.find_element(by=By.XPATH, value='.//div[@class=\"sc-300a8231-6 dBUjvq cli-title-metadata\"]//span[2]')\n",
    "\n",
    "    # Obtener rating\n",
    "    rating = movie.find_element(by=By.CLASS_NAME, value='ipc-rating-star--rating')\n",
    "\n",
    "    # Agrupar los datos en un solo diccionario\n",
    "    movie_data = {\n",
    "        'TITLE': clean_title,\n",
    "        'YEAR': year.text,\n",
    "        'DURATION': duration.text,\n",
    "        'RATING': rating.text\n",
    "    }\n",
    "\n",
    "    # Agregar el diccionario a la lista\n",
    "    data_dicts.append(movie_data)\n",
    "driver.quit()\n",
    "\n",
    "# Imprimir el resultado"
   ]
  },
  {
   "cell_type": "code",
   "execution_count": null,
   "metadata": {},
   "outputs": [],
   "source": [
    "import pandas as pd\n",
    "\n",
    "\n",
    "df = pd.DataFrame(data_dicts)\n",
    "df.to_excel('top_250_movies.xlsx', index=False)\n",
    "\n",
    "\n"
   ]
  }
 ],
 "metadata": {
  "kernelspec": {
   "display_name": "env_data",
   "language": "python",
   "name": "python3"
  },
  "language_info": {
   "codemirror_mode": {
    "name": "ipython",
    "version": 3
   },
   "file_extension": ".py",
   "mimetype": "text/x-python",
   "name": "python",
   "nbconvert_exporter": "python",
   "pygments_lexer": "ipython3",
   "version": "3.11.9"
  }
 },
 "nbformat": 4,
 "nbformat_minor": 2
}
